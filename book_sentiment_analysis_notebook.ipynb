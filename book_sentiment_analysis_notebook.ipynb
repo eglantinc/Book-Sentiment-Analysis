{
 "cells": [
  {
   "cell_type": "code",
   "id": "initial_id",
   "metadata": {
    "collapsed": true,
    "ExecuteTime": {
     "end_time": "2025-01-07T03:51:39.395766Z",
     "start_time": "2025-01-07T03:51:39.392217Z"
    }
   },
   "source": [
    "import pandas as pd\n",
    "import numpy as np\n",
    "import matplotlib.pyplot as plt\n",
    "import seaborn as sns\n",
    "\n",
    "plt.style.use('ggplot')"
   ],
   "outputs": [],
   "execution_count": 1
  },
  {
   "metadata": {
    "ExecuteTime": {
     "end_time": "2025-01-07T03:52:08.232073Z",
     "start_time": "2025-01-07T03:52:08.202029Z"
    }
   },
   "cell_type": "code",
   "source": "ratings = pd.read_csv('Books_rating.csv')",
   "id": "225db75e7e05f921",
   "outputs": [],
   "execution_count": 2
  },
  {
   "metadata": {},
   "cell_type": "markdown",
   "source": "## Exploratory Data Analysis",
   "id": "b37ed09a33dad7a0"
  },
  {
   "metadata": {
    "ExecuteTime": {
     "end_time": "2025-01-07T03:52:56.431771Z",
     "start_time": "2025-01-07T03:52:56.427805Z"
    }
   },
   "cell_type": "code",
   "source": "ratings = ratings.head(500)",
   "id": "73894cd7915ad120",
   "outputs": [],
   "execution_count": 3
  },
  {
   "metadata": {
    "ExecuteTime": {
     "end_time": "2025-01-07T03:53:10.335507Z",
     "start_time": "2025-01-07T03:53:10.317132Z"
    }
   },
   "cell_type": "code",
   "source": "ratings.head()",
   "id": "b40d3679a752fba",
   "outputs": [
    {
     "data": {
      "text/plain": [
       "           Id                           Title  Price         User_id  \\\n",
       "0  1882931173  Its Only Art If Its Well Hung!    NaN   AVCGYZL8FQQTD   \n",
       "1  0826414346        Dr. Seuss: American Icon    NaN  A30TK6U7DNS82R   \n",
       "2  0826414346        Dr. Seuss: American Icon    NaN  A3UH4UZ4RSVO82   \n",
       "3  0826414346        Dr. Seuss: American Icon    NaN  A2MVUWT453QH61   \n",
       "4  0826414346        Dr. Seuss: American Icon    NaN  A22X4XUPKF66MR   \n",
       "\n",
       "                          profileName review/helpfulness  review/score  \\\n",
       "0               Jim of Oz \"jim-of-oz\"                7/7           4.0   \n",
       "1                       Kevin Killian              10/10           5.0   \n",
       "2                        John Granger              10/11           5.0   \n",
       "3  Roy E. Perry \"amateur philosopher\"                7/7           4.0   \n",
       "4     D. H. Richards \"ninthwavestore\"                3/3           4.0   \n",
       "\n",
       "   review/time                                   review/summary  \\\n",
       "0    940636800           Nice collection of Julie Strain images   \n",
       "1   1095724800                                Really Enjoyed It   \n",
       "2   1078790400  Essential for every personal and Public Library   \n",
       "3   1090713600  Phlip Nel gives silly Seuss a serious treatment   \n",
       "4   1107993600                           Good academic overview   \n",
       "\n",
       "                                         review/text  \n",
       "0  This is only for Julie Strain fans. It's a col...  \n",
       "1  I don't care much for Dr. Seuss but after read...  \n",
       "2  If people become the books they read and if \"t...  \n",
       "3  Theodore Seuss Geisel (1904-1991), aka &quot;D...  \n",
       "4  Philip Nel - Dr. Seuss: American IconThis is b...  "
      ],
      "text/html": [
       "<div>\n",
       "<style scoped>\n",
       "    .dataframe tbody tr th:only-of-type {\n",
       "        vertical-align: middle;\n",
       "    }\n",
       "\n",
       "    .dataframe tbody tr th {\n",
       "        vertical-align: top;\n",
       "    }\n",
       "\n",
       "    .dataframe thead th {\n",
       "        text-align: right;\n",
       "    }\n",
       "</style>\n",
       "<table border=\"1\" class=\"dataframe\">\n",
       "  <thead>\n",
       "    <tr style=\"text-align: right;\">\n",
       "      <th></th>\n",
       "      <th>Id</th>\n",
       "      <th>Title</th>\n",
       "      <th>Price</th>\n",
       "      <th>User_id</th>\n",
       "      <th>profileName</th>\n",
       "      <th>review/helpfulness</th>\n",
       "      <th>review/score</th>\n",
       "      <th>review/time</th>\n",
       "      <th>review/summary</th>\n",
       "      <th>review/text</th>\n",
       "    </tr>\n",
       "  </thead>\n",
       "  <tbody>\n",
       "    <tr>\n",
       "      <th>0</th>\n",
       "      <td>1882931173</td>\n",
       "      <td>Its Only Art If Its Well Hung!</td>\n",
       "      <td>NaN</td>\n",
       "      <td>AVCGYZL8FQQTD</td>\n",
       "      <td>Jim of Oz \"jim-of-oz\"</td>\n",
       "      <td>7/7</td>\n",
       "      <td>4.0</td>\n",
       "      <td>940636800</td>\n",
       "      <td>Nice collection of Julie Strain images</td>\n",
       "      <td>This is only for Julie Strain fans. It's a col...</td>\n",
       "    </tr>\n",
       "    <tr>\n",
       "      <th>1</th>\n",
       "      <td>0826414346</td>\n",
       "      <td>Dr. Seuss: American Icon</td>\n",
       "      <td>NaN</td>\n",
       "      <td>A30TK6U7DNS82R</td>\n",
       "      <td>Kevin Killian</td>\n",
       "      <td>10/10</td>\n",
       "      <td>5.0</td>\n",
       "      <td>1095724800</td>\n",
       "      <td>Really Enjoyed It</td>\n",
       "      <td>I don't care much for Dr. Seuss but after read...</td>\n",
       "    </tr>\n",
       "    <tr>\n",
       "      <th>2</th>\n",
       "      <td>0826414346</td>\n",
       "      <td>Dr. Seuss: American Icon</td>\n",
       "      <td>NaN</td>\n",
       "      <td>A3UH4UZ4RSVO82</td>\n",
       "      <td>John Granger</td>\n",
       "      <td>10/11</td>\n",
       "      <td>5.0</td>\n",
       "      <td>1078790400</td>\n",
       "      <td>Essential for every personal and Public Library</td>\n",
       "      <td>If people become the books they read and if \"t...</td>\n",
       "    </tr>\n",
       "    <tr>\n",
       "      <th>3</th>\n",
       "      <td>0826414346</td>\n",
       "      <td>Dr. Seuss: American Icon</td>\n",
       "      <td>NaN</td>\n",
       "      <td>A2MVUWT453QH61</td>\n",
       "      <td>Roy E. Perry \"amateur philosopher\"</td>\n",
       "      <td>7/7</td>\n",
       "      <td>4.0</td>\n",
       "      <td>1090713600</td>\n",
       "      <td>Phlip Nel gives silly Seuss a serious treatment</td>\n",
       "      <td>Theodore Seuss Geisel (1904-1991), aka &amp;quot;D...</td>\n",
       "    </tr>\n",
       "    <tr>\n",
       "      <th>4</th>\n",
       "      <td>0826414346</td>\n",
       "      <td>Dr. Seuss: American Icon</td>\n",
       "      <td>NaN</td>\n",
       "      <td>A22X4XUPKF66MR</td>\n",
       "      <td>D. H. Richards \"ninthwavestore\"</td>\n",
       "      <td>3/3</td>\n",
       "      <td>4.0</td>\n",
       "      <td>1107993600</td>\n",
       "      <td>Good academic overview</td>\n",
       "      <td>Philip Nel - Dr. Seuss: American IconThis is b...</td>\n",
       "    </tr>\n",
       "  </tbody>\n",
       "</table>\n",
       "</div>"
      ]
     },
     "execution_count": 4,
     "metadata": {},
     "output_type": "execute_result"
    }
   ],
   "execution_count": 4
  },
  {
   "metadata": {
    "ExecuteTime": {
     "end_time": "2025-01-07T03:53:22.622280Z",
     "start_time": "2025-01-07T03:53:22.596268Z"
    }
   },
   "cell_type": "code",
   "source": "ratings.info()",
   "id": "8cd83610226af0d9",
   "outputs": [
    {
     "name": "stdout",
     "output_type": "stream",
     "text": [
      "<class 'pandas.core.frame.DataFrame'>\n",
      "RangeIndex: 500 entries, 0 to 499\n",
      "Data columns (total 10 columns):\n",
      " #   Column              Non-Null Count  Dtype  \n",
      "---  ------              --------------  -----  \n",
      " 0   Id                  500 non-null    object \n",
      " 1   Title               500 non-null    object \n",
      " 2   Price               130 non-null    float64\n",
      " 3   User_id             369 non-null    object \n",
      " 4   profileName         369 non-null    object \n",
      " 5   review/helpfulness  500 non-null    object \n",
      " 6   review/score        500 non-null    float64\n",
      " 7   review/time         500 non-null    int64  \n",
      " 8   review/summary      500 non-null    object \n",
      " 9   review/text         500 non-null    object \n",
      "dtypes: float64(2), int64(1), object(7)\n",
      "memory usage: 39.2+ KB\n"
     ]
    }
   ],
   "execution_count": 5
  },
  {
   "metadata": {},
   "cell_type": "code",
   "outputs": [],
   "execution_count": null,
   "source": "# Drop values that are not useful for my analysis",
   "id": "5d979877514d6464"
  },
  {
   "metadata": {
    "ExecuteTime": {
     "end_time": "2025-01-07T03:53:55.813758Z",
     "start_time": "2025-01-07T03:53:55.805694Z"
    }
   },
   "cell_type": "code",
   "source": "ratings = ratings.drop(['profileName', 'User_id', 'Id', 'Price', 'review/time', 'review/summary'], axis=1)",
   "id": "2d09d2322756fd6e",
   "outputs": [],
   "execution_count": 6
  },
  {
   "metadata": {
    "ExecuteTime": {
     "end_time": "2025-01-07T03:54:31.716752Z",
     "start_time": "2025-01-07T03:54:31.707608Z"
    }
   },
   "cell_type": "code",
   "source": [
    "# Verify if it is done right\n",
    "ratings.head(1)"
   ],
   "id": "8b2a7293875dad5e",
   "outputs": [
    {
     "data": {
      "text/plain": [
       "                            Title review/helpfulness  review/score  \\\n",
       "0  Its Only Art If Its Well Hung!                7/7           4.0   \n",
       "\n",
       "                                         review/text  \n",
       "0  This is only for Julie Strain fans. It's a col...  "
      ],
      "text/html": [
       "<div>\n",
       "<style scoped>\n",
       "    .dataframe tbody tr th:only-of-type {\n",
       "        vertical-align: middle;\n",
       "    }\n",
       "\n",
       "    .dataframe tbody tr th {\n",
       "        vertical-align: top;\n",
       "    }\n",
       "\n",
       "    .dataframe thead th {\n",
       "        text-align: right;\n",
       "    }\n",
       "</style>\n",
       "<table border=\"1\" class=\"dataframe\">\n",
       "  <thead>\n",
       "    <tr style=\"text-align: right;\">\n",
       "      <th></th>\n",
       "      <th>Title</th>\n",
       "      <th>review/helpfulness</th>\n",
       "      <th>review/score</th>\n",
       "      <th>review/text</th>\n",
       "    </tr>\n",
       "  </thead>\n",
       "  <tbody>\n",
       "    <tr>\n",
       "      <th>0</th>\n",
       "      <td>Its Only Art If Its Well Hung!</td>\n",
       "      <td>7/7</td>\n",
       "      <td>4.0</td>\n",
       "      <td>This is only for Julie Strain fans. It's a col...</td>\n",
       "    </tr>\n",
       "  </tbody>\n",
       "</table>\n",
       "</div>"
      ]
     },
     "execution_count": 7,
     "metadata": {},
     "output_type": "execute_result"
    }
   ],
   "execution_count": 7
  },
  {
   "metadata": {
    "ExecuteTime": {
     "end_time": "2025-01-07T03:54:47.311903Z",
     "start_time": "2025-01-07T03:54:47.306877Z"
    }
   },
   "cell_type": "code",
   "source": [
    "ratings = ratings.rename(columns={\n",
    "    'review/score': 'Score',\n",
    "    'review/text': 'Text',\n",
    "    'review/helpfulness':'Helpfulness'\n",
    "})"
   ],
   "id": "33b0b70e19ba8ca8",
   "outputs": [],
   "execution_count": 8
  },
  {
   "metadata": {
    "ExecuteTime": {
     "end_time": "2025-01-07T03:55:12.746074Z",
     "start_time": "2025-01-07T03:55:12.736567Z"
    }
   },
   "cell_type": "code",
   "source": [
    "# Checj ratings once more\n",
    "ratings.info()"
   ],
   "id": "168e1cb1daa84899",
   "outputs": [
    {
     "name": "stdout",
     "output_type": "stream",
     "text": [
      "<class 'pandas.core.frame.DataFrame'>\n",
      "RangeIndex: 500 entries, 0 to 499\n",
      "Data columns (total 4 columns):\n",
      " #   Column       Non-Null Count  Dtype  \n",
      "---  ------       --------------  -----  \n",
      " 0   Title        500 non-null    object \n",
      " 1   Helpfulness  500 non-null    object \n",
      " 2   Score        500 non-null    float64\n",
      " 3   Text         500 non-null    object \n",
      "dtypes: float64(1), object(3)\n",
      "memory usage: 15.8+ KB\n"
     ]
    }
   ],
   "execution_count": 9
  },
  {
   "metadata": {
    "ExecuteTime": {
     "end_time": "2025-01-07T03:55:27.766335Z",
     "start_time": "2025-01-07T03:55:27.759070Z"
    }
   },
   "cell_type": "code",
   "source": [
    "# Checking for any N/A values\n",
    "ratings.isnull().sum()"
   ],
   "id": "b7125dc657d89ec6",
   "outputs": [
    {
     "data": {
      "text/plain": [
       "Title          0\n",
       "Helpfulness    0\n",
       "Score          0\n",
       "Text           0\n",
       "dtype: int64"
      ]
     },
     "execution_count": 10,
     "metadata": {},
     "output_type": "execute_result"
    }
   ],
   "execution_count": 10
  },
  {
   "metadata": {
    "ExecuteTime": {
     "end_time": "2025-01-07T03:55:43.479984Z",
     "start_time": "2025-01-07T03:55:43.256169Z"
    }
   },
   "cell_type": "code",
   "source": [
    "ratings_plot = (ratings['Score']\n",
    "      .value_counts()\n",
    "      .sort_index()\n",
    "      .plot(kind='bar', title='Count of Reviews by Ratings', figsize=(10, 5)))\n",
    "ratings_plot.set_xlabel('Ratings')\n",
    "ratings_plot.set_ylabel('Count')\n",
    "plt.show()"
   ],
   "id": "e2672627f5f081f5",
   "outputs": [
    {
     "data": {
      "text/plain": [
       "<Figure size 1000x500 with 1 Axes>"
      ],
      "image/png": "[encoded data removed]"
     },
     "metadata": {},
     "output_type": "display_data"
    }
   ],
   "execution_count": 11
  },
  {
   "metadata": {},
   "cell_type": "markdown",
   "source": [
    "### Distribution of Ratings interpretation\n",
    "The majority of reviews have a rating of **5**, which indicates that most people left highly positive reviews.\n",
    "Ratings of **4** are the next most frequent, but they are significantly fewer than the **5-star** ratings, whereas ratings of **1**, **2**, and **3** are very sparse, indicating fewer negative or average reviews."
   ],
   "id": "e83dbd42452313a6"
  },
  {
   "metadata": {
    "ExecuteTime": {
     "end_time": "2025-01-07T03:57:44.979333Z",
     "start_time": "2025-01-07T03:57:44.967692Z"
    }
   },
   "cell_type": "code",
   "source": "ratings['Score'].describe()",
   "id": "2da8b4988714d77e",
   "outputs": [
    {
     "data": {
      "text/plain": [
       "count    500.000000\n",
       "mean       4.370000\n",
       "std        1.097045\n",
       "min        1.000000\n",
       "25%        4.000000\n",
       "50%        5.000000\n",
       "75%        5.000000\n",
       "max        5.000000\n",
       "Name: Score, dtype: float64"
      ]
     },
     "execution_count": 12,
     "metadata": {},
     "output_type": "execute_result"
    }
   ],
   "execution_count": 12
  },
  {
   "metadata": {
    "ExecuteTime": {
     "end_time": "2025-01-07T03:57:59.725235Z",
     "start_time": "2025-01-07T03:57:59.612742Z"
    }
   },
   "cell_type": "code",
   "source": [
    "sns.boxplot(x=ratings['Score'], color='lightblue')\n",
    "plt.title('Box Plot of Review Scores')\n",
    "plt.xlabel('Review Scores')\n",
    "plt.show()"
   ],
   "id": "36b4e7c5c925759a",
   "outputs": [
    {
     "data": {
      "text/plain": [
       "<Figure size 640x480 with 1 Axes>"
      ],
      "image/png": "[encoded data removed]"
     },
     "metadata": {},
     "output_type": "display_data"
    }
   ],
   "execution_count": 13
  },
  {
   "metadata": {},
   "cell_type": "markdown",
   "source": [
    "### Interpretation\n",
    "1. **Central Tendency (Median)**:\n",
    "   - The **median** is around **4.5 stars**, which means that most reviews are high.\n",
    "\n",
    "2. **Spread (IQR)**:\n",
    "   - The **box** extends roughly from **4.0 to 5.0**, therefore 50% of the reviews are concentrated in this range. Consequently, the majority of ratings are high.\n",
    "\n",
    "3. **Whiskers**:\n",
    "   - The lower whisker ends at **3.0**, which is the minimum rating excluding outliers.\n",
    "   - The upper whisker touches **5.0**, showing that the maximum rating is a perfect score.\n",
    "\n",
    "### Conclusion\n",
    "- The majority of books or items are rated highly, as indicated by the tight range between **4.0 and 5.0** (IQR). This suggests overall satisfaction.\n",
    "- While most reviews are positive, the presence of **1.0 and 2.0 star outliers** shows that some customers were highly dissatisfied, though these cases are rare."
   ],
   "id": "50be81912d2a2131"
  }
 ],
 "metadata": {
  "kernelspec": {
   "display_name": "Python 3",
   "language": "python",
   "name": "python3"
  },
  "language_info": {
   "codemirror_mode": {
    "name": "ipython",
    "version": 2
   },
   "file_extension": ".py",
   "mimetype": "text/x-python",
   "name": "python",
   "nbconvert_exporter": "python",
   "pygments_lexer": "ipython2",
   "version": "2.7.6"
  }
 },
 "nbformat": 4,
 "nbformat_minor": 5
}
